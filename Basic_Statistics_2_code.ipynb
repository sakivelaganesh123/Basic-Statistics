{
 "cells": [
  {
   "cell_type": "code",
   "execution_count": 23,
   "id": "6e87e1fc-5f59-48a3-8306-509be5918b80",
   "metadata": {},
   "outputs": [],
   "source": [
    "import numpy as np\n",
    "from scipy import stats"
   ]
  },
  {
   "cell_type": "code",
   "execution_count": 38,
   "id": "e531d37c-561d-47e8-8c5d-ddaf74d85428",
   "metadata": {},
   "outputs": [],
   "source": [
    "data = [1.13, 1.55, 1.43, 0.92, 1.25, 1.36, 1.32, 0.85, 1.07, 1.48, 1.20, 1.33, 1.18, 1.22, 1.29]"
   ]
  },
  {
   "cell_type": "code",
   "execution_count": 39,
   "id": "283b74d5-00d1-4f08-8951-8e343dbbbe80",
   "metadata": {},
   "outputs": [],
   "source": [
    "n = len(data)\n",
    "mean = np.mean(data)\n",
    "std_dev = np.std(data, ddof=1)\n",
    "confidence = 0.99\n",
    "alpha = 1 - confidence"
   ]
  },
  {
   "cell_type": "code",
   "execution_count": 40,
   "id": "f3b01a73-4b49-4a31-80f7-28d3a2e5a54a",
   "metadata": {},
   "outputs": [],
   "source": [
    "t_critical = stats.t.ppf(1 - alpha / 2, df=n - 1)"
   ]
  },
  {
   "cell_type": "code",
   "execution_count": 41,
   "id": "c85e4df7-e5d4-4b24-89b4-9647e6ef1982",
   "metadata": {},
   "outputs": [],
   "source": [
    "margin_of_error = t_critical * (std_dev / np.sqrt(n))"
   ]
  },
  {
   "cell_type": "code",
   "execution_count": 42,
   "id": "1cbc8cf9-200f-45f6-be0f-5fd35ca10b10",
   "metadata": {},
   "outputs": [],
   "source": [
    "ci_lower = mean - margin_of_error\n",
    "ci_upper = mean + margin_of_error"
   ]
  },
  {
   "cell_type": "code",
   "execution_count": 43,
   "id": "7f321af3-76bc-4bfb-b236-72df5aaa9229",
   "metadata": {},
   "outputs": [
    {
     "name": "stdout",
     "output_type": "stream",
     "text": [
      "a. 99% CI using sample std dev (t-distribution):\n",
      "Mean: 1.2387, Std Dev: 0.1932\n",
      "CI: (1.0902, 1.3871)\n"
     ]
    }
   ],
   "source": [
    "print(\"a. 99% CI using sample std dev (t-distribution):\")\n",
    "print(f\"Mean: {mean:.4f}, Std Dev: {std_dev:.4f}\")\n",
    "print(f\"CI: ({ci_lower:.4f}, {ci_upper:.4f})\")"
   ]
  },
  {
   "cell_type": "code",
   "execution_count": 44,
   "id": "49269143-eec9-454d-8e9d-45536cda77e2",
   "metadata": {},
   "outputs": [],
   "source": [
    "pop_std_dev = 0.2"
   ]
  },
  {
   "cell_type": "code",
   "execution_count": 46,
   "id": "8853728e-912b-44d2-bf95-6fa3427755c2",
   "metadata": {},
   "outputs": [],
   "source": [
    "z_critical = stats.norm.ppf(1 - alpha/2)"
   ]
  },
  {
   "cell_type": "code",
   "execution_count": 47,
   "id": "f69fcc90-c19d-4fde-b0f1-9821fee00b1c",
   "metadata": {},
   "outputs": [],
   "source": [
    "margin_of_error_z = z_critical * (pop_std_dev / np.sqrt(n))"
   ]
  },
  {
   "cell_type": "code",
   "execution_count": 48,
   "id": "02ada339-f863-4607-8a18-bae248a0f4b3",
   "metadata": {},
   "outputs": [],
   "source": [
    "ci_lower_z = mean - margin_of_error_z\n",
    "ci_upper_z = mean + margin_of_error_z"
   ]
  },
  {
   "cell_type": "code",
   "execution_count": 49,
   "id": "9e79e76a-cb6f-43b5-9071-580b6af03c2e",
   "metadata": {},
   "outputs": [
    {
     "name": "stdout",
     "output_type": "stream",
     "text": [
      "\n",
      "b. 99% CI using population std dev (z-distribution):\n",
      "CI: (1.1057, 1.3717)\n"
     ]
    }
   ],
   "source": [
    "print(\"\\nb. 99% CI using population std dev (z-distribution):\")\n",
    "print(f\"CI: ({ci_lower_z:.4f}, {ci_upper_z:.4f})\")"
   ]
  }
 ],
 "metadata": {
  "kernelspec": {
   "display_name": "Python 3 (ipykernel)",
   "language": "python",
   "name": "python3"
  },
  "language_info": {
   "codemirror_mode": {
    "name": "ipython",
    "version": 3
   },
   "file_extension": ".py",
   "mimetype": "text/x-python",
   "name": "python",
   "nbconvert_exporter": "python",
   "pygments_lexer": "ipython3",
   "version": "3.12.7"
  }
 },
 "nbformat": 4,
 "nbformat_minor": 5
}
